{
  "nbformat": 4,
  "nbformat_minor": 0,
  "metadata": {
    "colab": {
      "provenance": []
    },
    "kernelspec": {
      "name": "python3",
      "display_name": "Python 3"
    },
    "language_info": {
      "name": "python"
    }
  },
  "cells": [
    {
      "cell_type": "code",
      "source": [
        "#W2A1\n",
        "print(\"Hello World\")"
      ],
      "metadata": {
        "colab": {
          "base_uri": "https://localhost:8080/"
        },
        "id": "2RHrbjTJbM7G",
        "outputId": "b210105b-1777-4aac-cdb2-6008f17bfd13"
      },
      "execution_count": null,
      "outputs": [
        {
          "output_type": "stream",
          "name": "stdout",
          "text": [
            "Hello World\n"
          ]
        }
      ]
    },
    {
      "cell_type": "markdown",
      "source": [],
      "metadata": {
        "id": "dIozBQgwbebD"
      }
    },
    {
      "cell_type": "code",
      "execution_count": null,
      "metadata": {
        "colab": {
          "base_uri": "https://localhost:8080/"
        },
        "id": "OC0_r_jtV86G",
        "outputId": "28511874-c410-411b-841c-770e4d63127e"
      },
      "outputs": [
        {
          "output_type": "stream",
          "name": "stdout",
          "text": [
            "hehe\n",
            "Hi hehe\n"
          ]
        }
      ],
      "source": [
        "#W2A2\n",
        "a = input()\n",
        "print(\"Hi \" + a)"
      ]
    },
    {
      "cell_type": "code",
      "source": [
        "#W2A3\n",
        "a = int(input())\n",
        "b = int(input())\n",
        "print(a+b)\n",
        "print(a-b)\n",
        "print(a*b)\n",
        "print(a//b)\n",
        "print(a%b)\n",
        "print(round(a/b,2))"
      ],
      "metadata": {
        "colab": {
          "base_uri": "https://localhost:8080/"
        },
        "id": "MDLVUJaSbsQ3",
        "outputId": "136bad62-94ee-4111-8022-aee1d061bab1"
      },
      "execution_count": null,
      "outputs": [
        {
          "output_type": "stream",
          "name": "stdout",
          "text": [
            "10 \n",
            "3\n",
            "13\n",
            "7\n",
            "30\n",
            "3\n",
            "1\n",
            "3.33\n"
          ]
        }
      ]
    },
    {
      "cell_type": "code",
      "source": [
        "#W2A4\n",
        "a1,a2,a3,b1,b2,c1 = map(float,input().split())\n",
        "print(round((((a1+b1+c1) + (a2 + b2)*2 + a3*3)/10),1))"
      ],
      "metadata": {
        "id": "osjrXpwtcFrt",
        "colab": {
          "base_uri": "https://localhost:8080/"
        },
        "outputId": "4108738b-1c8e-45d0-b3fa-d89ee3fbe9e6"
      },
      "execution_count": null,
      "outputs": [
        {
          "output_type": "stream",
          "name": "stdout",
          "text": [
            "4 9.9 2 3 4 7\n",
            "4.8\n"
          ]
        }
      ]
    },
    {
      "cell_type": "code",
      "source": [
        "#W2A5\n",
        "a, b = map(int,input().split())\n",
        "print(a**b)"
      ],
      "metadata": {
        "colab": {
          "base_uri": "https://localhost:8080/"
        },
        "id": "n0pa9Bfql4yh",
        "outputId": "1d2d5234-78f8-44ff-a918-1c15a06b9899"
      },
      "execution_count": null,
      "outputs": [
        {
          "output_type": "stream",
          "name": "stdout",
          "text": [
            "2 5\n",
            "32\n"
          ]
        }
      ]
    },
    {
      "cell_type": "code",
      "source": [
        "#W2A6\n",
        "a = input()\n",
        "b = a.upper()\n",
        "print(ord(a))\n",
        "print(b)"
      ],
      "metadata": {
        "colab": {
          "base_uri": "https://localhost:8080/"
        },
        "id": "Uc-RiuZVmsJ9",
        "outputId": "afc4a6d1-6156-434e-a769-43fb5e333058"
      },
      "execution_count": null,
      "outputs": [
        {
          "output_type": "stream",
          "name": "stdout",
          "text": [
            "a\n",
            "97\n",
            "A\n"
          ]
        }
      ]
    },
    {
      "cell_type": "code",
      "source": [
        "#W2A7\n",
        "a = ((13**2)*3)+5\n",
        "b = 13**2*3 + 5\n",
        "print(a)\n",
        "print(b)"
      ],
      "metadata": {
        "colab": {
          "base_uri": "https://localhost:8080/"
        },
        "id": "GGSQSivnpm9U",
        "outputId": "d5811272-d941-4018-9f8d-6ca3461b2b1a"
      },
      "execution_count": null,
      "outputs": [
        {
          "output_type": "stream",
          "name": "stdout",
          "text": [
            "512\n",
            "512\n"
          ]
        }
      ]
    },
    {
      "cell_type": "code",
      "source": [
        "#W2A8\n",
        "a = float(input())\n",
        "print(round((9/5*a+32),2))"
      ],
      "metadata": {
        "colab": {
          "base_uri": "https://localhost:8080/"
        },
        "id": "cGxVPtqLrgxM",
        "outputId": "65c10c9d-2411-4439-f210-ac28a3f8a8f5"
      },
      "execution_count": null,
      "outputs": [
        {
          "output_type": "stream",
          "name": "stdout",
          "text": [
            "54\n",
            "129.2\n"
          ]
        }
      ]
    },
    {
      "cell_type": "code",
      "source": [
        "#W2A9\n",
        "x = float(input())\n",
        "print(round((x*(7/5)+10),2))"
      ],
      "metadata": {
        "id": "_qwHhDuhsEM-",
        "colab": {
          "base_uri": "https://localhost:8080/"
        },
        "outputId": "facf7091-4166-49e8-df21-060338293364"
      },
      "execution_count": null,
      "outputs": [
        {
          "output_type": "stream",
          "name": "stdout",
          "text": [
            "5.9587\n",
            "18.34\n"
          ]
        }
      ]
    },
    {
      "cell_type": "code",
      "source": [
        "#W2A10\n",
        "a,b,c=input().split()\n",
        "print(f\"Hi {c}, {b} and {a}\")"
      ],
      "metadata": {
        "colab": {
          "base_uri": "https://localhost:8080/"
        },
        "id": "e1YEJbF_fuLH",
        "outputId": "da31581f-b89c-4a18-a6f1-25e98616a5f5"
      },
      "execution_count": null,
      "outputs": [
        {
          "output_type": "stream",
          "name": "stdout",
          "text": [
            "a b c\n",
            "Hi c, b and a\n"
          ]
        }
      ]
    },
    {
      "cell_type": "code",
      "source": [
        "#W2A11\n",
        "a, b = map(int, input().split())\n",
        "print(a*3600, b*60)"
      ],
      "metadata": {
        "colab": {
          "base_uri": "https://localhost:8080/"
        },
        "id": "EF8o4t4JyBOO",
        "outputId": "c33b467c-0495-4249-d990-5eafc2983c5d"
      },
      "execution_count": null,
      "outputs": [
        {
          "output_type": "stream",
          "name": "stdout",
          "text": [
            "2 5\n",
            "7200 300\n"
          ]
        }
      ]
    },
    {
      "cell_type": "code",
      "source": [
        "#W2A12\n",
        "n = int(input())\n",
        "print(n*n*6)"
      ],
      "metadata": {
        "colab": {
          "base_uri": "https://localhost:8080/"
        },
        "id": "m5DQw79mzYUD",
        "outputId": "7be38d30-e990-4424-d8f8-fda0c4e09f67"
      },
      "execution_count": null,
      "outputs": [
        {
          "output_type": "stream",
          "name": "stdout",
          "text": [
            "2\n",
            "24\n"
          ]
        }
      ]
    },
    {
      "cell_type": "code",
      "source": [
        "#W2A13\n",
        "a, b = map(int,input().split())\n",
        "c = a*b\n",
        "print(c%10)"
      ],
      "metadata": {
        "colab": {
          "base_uri": "https://localhost:8080/"
        },
        "id": "WgfQjezJz_rr",
        "outputId": "da5890d0-c840-4436-f602-5335f54a138b"
      },
      "execution_count": null,
      "outputs": [
        {
          "output_type": "stream",
          "name": "stdout",
          "text": [
            "5 7\n",
            "5\n"
          ]
        }
      ]
    },
    {
      "cell_type": "code",
      "source": [
        "#W2A14\n",
        "a, b = map(int,input().split())\n",
        "a = a + b #a=5 b=3\n",
        "b = a - b #b=2 a=5\n",
        "a = a - b\n",
        "print(a,b)"
      ],
      "metadata": {
        "colab": {
          "base_uri": "https://localhost:8080/"
        },
        "id": "FVI40vla0STG",
        "outputId": "cd934108-f6e6-4eec-e857-5c0dc5bbf946"
      },
      "execution_count": null,
      "outputs": [
        {
          "output_type": "stream",
          "name": "stdout",
          "text": [
            "2 3\n",
            "3 2\n"
          ]
        }
      ]
    },
    {
      "cell_type": "code",
      "source": [
        "#W2A15\n",
        "n = int(input())\n",
        "print(3*n*(n-1)+1)"
      ],
      "metadata": {
        "id": "fkKNIGDD6aAk",
        "colab": {
          "base_uri": "https://localhost:8080/"
        },
        "outputId": "26b7cd99-86c4-4c0d-d5f6-6d646f027c92"
      },
      "execution_count": 1,
      "outputs": [
        {
          "output_type": "stream",
          "name": "stdout",
          "text": [
            "2\n",
            "7\n"
          ]
        }
      ]
    },
    {
      "cell_type": "code",
      "source": [
        "#W2A16\n",
        "print(\"Spring\\nSummer\\nAutumn\\nWinter\")"
      ],
      "metadata": {
        "colab": {
          "base_uri": "https://localhost:8080/"
        },
        "id": "AqQNYEQqWUj0",
        "outputId": "69e22ada-576c-4823-80aa-9645e4ad773e"
      },
      "execution_count": null,
      "outputs": [
        {
          "output_type": "stream",
          "name": "stdout",
          "text": [
            "Spring\n",
            "Summer\n",
            "Autumn\n",
            "Winter\n"
          ]
        }
      ]
    },
    {
      "cell_type": "code",
      "source": [
        "#W2A17\n",
        "for i in range(1,6,2): #for từ 1 đến trước số 6( tức là đến 5=n-1) bước nhảy 2\n",
        "  print('*'*i)"
      ],
      "metadata": {
        "colab": {
          "base_uri": "https://localhost:8080/"
        },
        "id": "RXFWQiwTmPB7",
        "outputId": "4686abee-040d-41c4-84b0-49989426a0a3"
      },
      "execution_count": null,
      "outputs": [
        {
          "output_type": "stream",
          "name": "stdout",
          "text": [
            "*\n",
            "***\n",
            "*****\n"
          ]
        }
      ]
    },
    {
      "cell_type": "code",
      "source": [
        "#W2A18\n",
        "print(\"### # #  ### ###\")\n",
        "print(\" #  #  #  #   # \")\n",
        "print(\" #  #   # #   # \")\n",
        "print(\" #  #  #  #   # \")\n",
        "print(\" #  # #   #   #\")"
      ],
      "metadata": {
        "id": "S_P8LCfxYbiG",
        "colab": {
          "base_uri": "https://localhost:8080/"
        },
        "outputId": "d7de0208-8ed3-42d0-b1f4-32eb9f33649b"
      },
      "execution_count": null,
      "outputs": [
        {
          "output_type": "stream",
          "name": "stdout",
          "text": [
            "### # #  ### ###\n",
            " #  #  #  #   # \n",
            " #  #   # #   # \n",
            " #  #  #  #   # \n",
            " #  # #   #   #\n"
          ]
        }
      ]
    },
    {
      "cell_type": "code",
      "source": [
        "#W2A19\n",
        "print(\"Monday\\nTuesday\\nWednesday\\nThursday\\nFriday\\nSaturday\\nSunday\")"
      ],
      "metadata": {
        "colab": {
          "base_uri": "https://localhost:8080/"
        },
        "id": "Dv2dwwEfaGod",
        "outputId": "458187ab-74ac-497f-ad9e-6fdec6cbd01b"
      },
      "execution_count": null,
      "outputs": [
        {
          "output_type": "stream",
          "name": "stdout",
          "text": [
            "Monday\n",
            "Tuesday\n",
            "Wednesday\n",
            "Thursday\n",
            "Friday\n",
            "Saturday\n",
            "Sunday\n"
          ]
        }
      ]
    },
    {
      "cell_type": "code",
      "source": [
        "#W2A20\n",
        "print(\"January\\nFebruary\\nMarch\\nApril\\nMay\\nJune\\nJuly\\nAugust\\nSeptember\\nOctober\\nNovember\\nDecember\")"
      ],
      "metadata": {
        "colab": {
          "base_uri": "https://localhost:8080/"
        },
        "id": "LCRePAYhaUbl",
        "outputId": "1cc36d03-aab3-481f-dfc5-ebc08d9e8a3d"
      },
      "execution_count": null,
      "outputs": [
        {
          "output_type": "stream",
          "name": "stdout",
          "text": [
            "January\n",
            "February\n",
            "March\n",
            "April\n",
            "May\n",
            "June\n",
            "July\n",
            "August\n",
            "September\n",
            "October\n",
            "November\n",
            "December\n"
          ]
        }
      ]
    },
    {
      "cell_type": "code",
      "source": [
        "#W2A21\n",
        "#for i in range(0,10):\n",
        "for i in range(10): #chay0den9\n",
        "  print(\"Hello, world\")"
      ],
      "metadata": {
        "colab": {
          "base_uri": "https://localhost:8080/"
        },
        "id": "eYZIwipPasKD",
        "outputId": "85c9dec9-1939-40b8-da4c-62cf75793833"
      },
      "execution_count": null,
      "outputs": [
        {
          "output_type": "stream",
          "name": "stdout",
          "text": [
            "Hello, world\n",
            "Hello, world\n",
            "Hello, world\n",
            "Hello, world\n",
            "Hello, world\n",
            "Hello, world\n",
            "Hello, world\n",
            "Hello, world\n",
            "Hello, world\n",
            "Hello, world\n"
          ]
        }
      ]
    }
  ]
}