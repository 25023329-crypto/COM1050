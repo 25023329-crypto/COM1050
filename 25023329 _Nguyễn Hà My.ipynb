{
 "cells": [
  {
   "cell_type": "code",
   "execution_count": 1,
   "id": "831abd45",
   "metadata": {},
   "outputs": [
    {
     "name": "stdout",
     "output_type": "stream",
     "text": [
      "4.75\n",
      "Học lực Yếu\n",
      "Toán kém\n"
     ]
    }
   ],
   "source": [
    "#BÀI 1\n",
    "T,L,H,A= map(float,input().split())\n",
    "TB = (T+L+H+A)/4\n",
    "print(TB)\n",
    "if TB >= 9.0:\n",
    "    print(\"Học lực Xuất sắc\")\n",
    "else:\n",
    "    if TB >= 8.5 and TB < 9.0:\n",
    "        print(\"Học lực giỏi\")\n",
    "    if TB >= 7.0 and TB < 8.5:\n",
    "        print(\"Học lực Khá\")\n",
    "    if TB >= 5.5 and TB < 7.0:\n",
    "        print(\"Học lực Trung bình\")\n",
    "    if TB >= 4.0 and TB < 5.5:\n",
    "        print(\"Học lực Yếu\")\n",
    "    if TB < 4.0:\n",
    "        print(\"Học lực Kém\")\n",
    "if T<4.0:\n",
    "    print(\"Toán kém\")\n",
    "if L<4.0:\n",
    "        print(\"Lý kém\")\n",
    "if H<4.0:\n",
    "        print(\"Hóa kém\")\n",
    "if A<4.0:\n",
    "        print(\"Anh kém\")"
   ]
  },
  {
   "cell_type": "code",
   "execution_count": null,
   "id": "1223af0c",
   "metadata": {},
   "outputs": [],
   "source": [
    "#BÀI 2\n",
    "cc,cn = map(float,input().split())\n",
    "bmi = cn / (cc**2)\n",
    "print(f\"{bmi:.2f}\")\n",
    "if bmi <18.5:\n",
    "    print(\"Thiếu cân\")\n",
    "if bmi>= 18.5 and bmi<25:\n",
    "    print(\"Bình thường\")\n",
    "if bmi >= 25 and bmi < 30:\n",
    "    print(\"Thừa cân\")\n",
    "if bmi >= 30:\n",
    "    print(\"Béo phì\")"
   ]
  },
  {
   "cell_type": "code",
   "execution_count": 4,
   "id": "60574d32",
   "metadata": {},
   "outputs": [
    {
     "name": "stdout",
     "output_type": "stream",
     "text": [
      "Mặt hàng 1: \n",
      "Tổng tiền sản phẩm 1: 31.00 \n",
      "Mặt hàng 2: \n",
      "Tổng tiền sản phẩm 2: 6.00 \n",
      "Tổng tiền: 37.00$\n",
      "Giảm giá: 0.00$\n",
      "Phải trả: 37.00$\n"
     ]
    }
   ],
   "source": [
    "#BÀI 3\n",
    "n = int(input(\"Nhập số lượng mặt hàng: \"))\n",
    "tong = 0\n",
    "giam = 0\n",
    "for i in range(1, n+1):\n",
    "    print(f\"Mặt hàng {i}: \")\n",
    "    ten = input(\"Tên hàng: \")\n",
    "    sl = int(input(\"Số lượng: \"))\n",
    "    dg = float(input(\"Đơn giá: \"))\n",
    "    tt = sl * dg\n",
    "    tong+= tt\n",
    "    print(f\"Tổng tiền sản phẩm {i}: {tt:.2f} \")\n",
    "\n",
    "if tong >= 100:\n",
    "    giam = tong * 0.1\n",
    "elif tong >= 50:\n",
    "    giam = tong * 0.05\n",
    "phaitra = tong - giam\n",
    "print(f\"Tổng tiền: {tong:.2f}$\")\n",
    "print(f\"Giảm giá: {giam:.2f}$\")\n",
    "print(f\"Phải trả: {phaitra:.2f}$\")\n",
    "\n",
    "\n"
   ]
  }
 ],
 "metadata": {
  "kernelspec": {
   "display_name": "Python 3",
   "language": "python",
   "name": "python3"
  },
  "language_info": {
   "codemirror_mode": {
    "name": "ipython",
    "version": 3
   },
   "file_extension": ".py",
   "mimetype": "text/x-python",
   "name": "python",
   "nbconvert_exporter": "python",
   "pygments_lexer": "ipython3",
   "version": "3.13.7"
  }
 },
 "nbformat": 4,
 "nbformat_minor": 5
}
